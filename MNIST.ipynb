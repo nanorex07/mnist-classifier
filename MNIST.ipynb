{
 "cells": [
  {
   "cell_type": "code",
   "execution_count": 5,
   "id": "2d0eefd3",
   "metadata": {},
   "outputs": [],
   "source": [
    "import tensorflow as tf\n",
    "from tensorflow import keras\n",
    "import numpy as np"
   ]
  },
  {
   "cell_type": "code",
   "execution_count": 6,
   "id": "f075d2ac",
   "metadata": {},
   "outputs": [
    {
     "name": "stderr",
     "output_type": "stream",
     "text": [
      "/tmp/ipykernel_7334/573916432.py:3: DeprecationWarning: Please use `shift` from the `scipy.ndimage` namespace, the `scipy.ndimage.interpolation` namespace is deprecated.\n",
      "  from scipy.ndimage.interpolation import shift\n"
     ]
    }
   ],
   "source": [
    "(X_train, y_train), (X_test, y_test) = keras.datasets.mnist.load_data()\n",
    "\n",
    "from scipy.ndimage.interpolation import shift\n",
    "def shift_image(image, dx, dy):\n",
    "    image = image.reshape((28, 28))\n",
    "    shifted_image = shift(image, [dy, dx], cval=0, mode=\"constant\")\n",
    "    return shifted_image\n",
    "X_train_augmented = [image for image in X_train]\n",
    "y_train_augmented = [image for image in y_train]\n",
    "for dx, dy in ((1,0), (-1,0), (0,1), (0,-1)):\n",
    "     for image, label in zip(X_train, y_train):\n",
    "             X_train_augmented.append(shift_image(image, dx, dy))\n",
    "             y_train_augmented.append(label)\n",
    "shuffle_idx = np.random.permutation(len(X_train_augmented))\n",
    "X_train_augmented = np.array(X_train_augmented)[shuffle_idx]\n",
    "y_train_augmented = np.array(y_train_augmented)[shuffle_idx]"
   ]
  },
  {
   "cell_type": "code",
   "execution_count": 7,
   "id": "6b19b43c",
   "metadata": {},
   "outputs": [
    {
     "name": "stdout",
     "output_type": "stream",
     "text": [
      "(300000, 784)\n"
     ]
    }
   ],
   "source": [
    "X_train_augmented = X_train_augmented/255\n",
    "X_test = X_test/255\n",
    "train_flatten = X_train_augmented.reshape(len(X_train_augmented), 28*28)\n",
    "test_flatten = X_test.reshape(len(X_test), 28*28)\n",
    "print(train_flatten.shape)"
   ]
  },
  {
   "cell_type": "code",
   "execution_count": 8,
   "id": "38bc5e40",
   "metadata": {},
   "outputs": [
    {
     "data": {
      "text/plain": [
       "(10000, 784)"
      ]
     },
     "execution_count": 8,
     "metadata": {},
     "output_type": "execute_result"
    }
   ],
   "source": [
    "test_flatten.shape"
   ]
  },
  {
   "cell_type": "code",
   "execution_count": 10,
   "id": "5d74e57d",
   "metadata": {},
   "outputs": [
    {
     "name": "stdout",
     "output_type": "stream",
     "text": [
      "Epoch 1/10\n",
      "9375/9375 [==============================] - 18s 2ms/step - loss: 0.2696 - accuracy: 0.9209\n",
      "Epoch 2/10\n",
      "9375/9375 [==============================] - 17s 2ms/step - loss: 0.1419 - accuracy: 0.9578\n",
      "Epoch 3/10\n",
      "9375/9375 [==============================] - 17s 2ms/step - loss: 0.1179 - accuracy: 0.9647\n",
      "Epoch 4/10\n",
      "9375/9375 [==============================] - 17s 2ms/step - loss: 0.1055 - accuracy: 0.9681\n",
      "Epoch 5/10\n",
      "9375/9375 [==============================] - 17s 2ms/step - loss: 0.0976 - accuracy: 0.9704\n",
      "Epoch 6/10\n",
      "9375/9375 [==============================] - 17s 2ms/step - loss: 0.0930 - accuracy: 0.9719\n",
      "Epoch 7/10\n",
      "9375/9375 [==============================] - 17s 2ms/step - loss: 0.0888 - accuracy: 0.9728\n",
      "Epoch 8/10\n",
      "9375/9375 [==============================] - 17s 2ms/step - loss: 0.0860 - accuracy: 0.9739\n",
      "Epoch 9/10\n",
      "9375/9375 [==============================] - 18s 2ms/step - loss: 0.0834 - accuracy: 0.9742\n",
      "Epoch 10/10\n",
      "9375/9375 [==============================] - 17s 2ms/step - loss: 0.0811 - accuracy: 0.9749\n"
     ]
    },
    {
     "data": {
      "text/plain": [
       "<keras.callbacks.History at 0x7f61963a7af0>"
      ]
     },
     "execution_count": 10,
     "metadata": {},
     "output_type": "execute_result"
    }
   ],
   "source": [
    "model = keras.Sequential([\n",
    "    keras.layers.Dense(28, input_shape = (784,), activation=\"relu\"),\n",
    "    keras.layers.Dense(16, activation=\"relu\"),\n",
    "    keras.layers.Dense(10, activation=\"sigmoid\")\n",
    "])\n",
    "\n",
    "model.compile(\n",
    "    optimizer=\"adam\",\n",
    "    loss=\"sparse_categorical_crossentropy\",\n",
    "    metrics=[\"accuracy\"]\n",
    ")\n",
    "\n",
    "model.fit(train_flatten, y_train_augmented, epochs=10)"
   ]
  },
  {
   "cell_type": "code",
   "execution_count": 12,
   "id": "9114b240",
   "metadata": {},
   "outputs": [
    {
     "name": "stdout",
     "output_type": "stream",
     "text": [
      "313/313 [==============================] - 1s 1ms/step\n"
     ]
    }
   ],
   "source": [
    "pred = model.predict(test_flatten)"
   ]
  },
  {
   "cell_type": "code",
   "execution_count": 13,
   "id": "f62f8e85",
   "metadata": {},
   "outputs": [],
   "source": [
    "pred_labels = [np.argmax(i) for i in pred]"
   ]
  },
  {
   "cell_type": "code",
   "execution_count": 14,
   "id": "8fa562bf",
   "metadata": {},
   "outputs": [
    {
     "data": {
      "text/plain": [
       "<tf.Tensor: shape=(10, 10), dtype=int32, numpy=\n",
       "array([[ 970,    0,    0,    0,    1,    3,    2,    0,    2,    2],\n",
       "       [   0, 1127,    0,    2,    2,    1,    2,    0,    1,    0],\n",
       "       [   6,    6,  987,    4,    5,    2,    3,   12,    7,    0],\n",
       "       [   0,    0,    2,  971,    0,   11,    0,    8,    7,   11],\n",
       "       [   0,    0,    0,    0,  950,    1,    4,    4,    1,   22],\n",
       "       [   2,    1,    0,    8,    0,  863,    7,    4,    5,    2],\n",
       "       [   6,    2,    0,    0,    9,    7,  933,    0,    1,    0],\n",
       "       [   0,    5,    5,    3,    3,    0,    0, 1006,    2,    4],\n",
       "       [   4,    0,    1,    1,    3,    4,    1,    2,  949,    9],\n",
       "       [   0,    2,    0,    2,   11,    3,    0,    7,    2,  982]],\n",
       "      dtype=int32)>"
      ]
     },
     "execution_count": 14,
     "metadata": {},
     "output_type": "execute_result"
    }
   ],
   "source": [
    "cm = tf.math.confusion_matrix(labels=y_test, predictions=pred_labels)\n",
    "cm"
   ]
  },
  {
   "cell_type": "code",
   "execution_count": 11,
   "id": "23450a53",
   "metadata": {},
   "outputs": [
    {
     "name": "stdout",
     "output_type": "stream",
     "text": [
      "Epoch 1/10\n",
      "1875/1875 [==============================] - 2s 879us/step - loss: 0.2774 - accuracy: 0.9211\n",
      "Epoch 2/10\n",
      "1875/1875 [==============================] - 2s 891us/step - loss: 0.1268 - accuracy: 0.9621\n",
      "Epoch 3/10\n",
      "1875/1875 [==============================] - 2s 884us/step - loss: 0.0889 - accuracy: 0.9729\n",
      "Epoch 4/10\n",
      "1875/1875 [==============================] - 2s 864us/step - loss: 0.0672 - accuracy: 0.9790\n",
      "Epoch 5/10\n",
      "1875/1875 [==============================] - 2s 862us/step - loss: 0.0534 - accuracy: 0.9829\n",
      "Epoch 6/10\n",
      "1875/1875 [==============================] - 2s 864us/step - loss: 0.0430 - accuracy: 0.9866\n",
      "Epoch 7/10\n",
      "1875/1875 [==============================] - 2s 870us/step - loss: 0.0356 - accuracy: 0.9891\n",
      "Epoch 8/10\n",
      "1875/1875 [==============================] - 2s 867us/step - loss: 0.0280 - accuracy: 0.9911\n",
      "Epoch 9/10\n",
      "1875/1875 [==============================] - 2s 872us/step - loss: 0.0249 - accuracy: 0.9922\n",
      "Epoch 10/10\n",
      "1875/1875 [==============================] - 2s 871us/step - loss: 0.0190 - accuracy: 0.9945\n"
     ]
    },
    {
     "data": {
      "text/plain": [
       "<keras.callbacks.History at 0x7f67fdc12aa0>"
      ]
     },
     "execution_count": 11,
     "metadata": {},
     "output_type": "execute_result"
    }
   ],
   "source": [
    "model = keras.Sequential([\n",
    "    \n",
    "    keras.layers.Dense(100, activation=\"relu\"),\n",
    "    keras.layers.Dense(10, activation=\"sigmoid\")\n",
    "])\n",
    "\n",
    "model.compile(\n",
    "    optimizer=\"adam\",\n",
    "    loss=\"sparse_categorical_crossentropy\",\n",
    "    metrics=[\"accuracy\"]\n",
    ")\n",
    "\n",
    "model.fit(train_flatten, y_train, epochs=10)"
   ]
  },
  {
   "cell_type": "code",
   "execution_count": 15,
   "id": "39294bb9",
   "metadata": {},
   "outputs": [
    {
     "name": "stdout",
     "output_type": "stream",
     "text": [
      "313/313 [==============================] - 1s 2ms/step - loss: 0.0793 - accuracy: 0.9738\n",
      "1/1 [==============================] - 0s 32ms/step\n",
      "[[5.5794433e-02 1.0372788e-03 8.2490331e-01 5.3351885e-01 7.5848902e-06\n",
      "  2.9819446e-02 1.6826826e-08 9.9998796e-01 3.9357921e-01 2.4963325e-01]]\n"
     ]
    }
   ],
   "source": [
    "model.evaluate(test_flatten, y_test)\n",
    "# model.predict(test_flatten)\n",
    "y = np.expand_dims(test_flatten[0], axis=0)\n",
    "pred = model.predict(y)\n",
    "print(pred)\n",
    "# pred_labels = [np.argmax(i) for i in pred]\n",
    "# cm = tf.math.confusion_matrix(labels=y_test, predictions=pred_labels)\n",
    "# cm"
   ]
  },
  {
   "cell_type": "code",
   "execution_count": 16,
   "id": "108a140e",
   "metadata": {},
   "outputs": [],
   "source": [
    "model.save(\"mnist2.h5\")"
   ]
  },
  {
   "cell_type": "code",
   "execution_count": null,
   "id": "76408c07",
   "metadata": {},
   "outputs": [],
   "source": []
  },
  {
   "cell_type": "code",
   "execution_count": null,
   "id": "a8b79e4b",
   "metadata": {},
   "outputs": [],
   "source": []
  }
 ],
 "metadata": {
  "kernelspec": {
   "display_name": "Python 3 (ipykernel)",
   "language": "python",
   "name": "python3"
  },
  "language_info": {
   "codemirror_mode": {
    "name": "ipython",
    "version": 3
   },
   "file_extension": ".py",
   "mimetype": "text/x-python",
   "name": "python",
   "nbconvert_exporter": "python",
   "pygments_lexer": "ipython3",
   "version": "3.10.6"
  }
 },
 "nbformat": 4,
 "nbformat_minor": 5
}
